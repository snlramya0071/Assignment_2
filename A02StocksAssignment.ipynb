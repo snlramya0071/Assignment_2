{
 "cells": [
  {
   "cell_type": "code",
   "execution_count": 1,
   "id": "295ffa85-7d25-452b-90fd-22a293bf1281",
   "metadata": {},
   "outputs": [],
   "source": [
    "import findspark\n",
    "findspark.init()"
   ]
  },
  {
   "cell_type": "code",
   "execution_count": 2,
   "id": "2703967b-b087-42d9-950d-7791257b3a86",
   "metadata": {},
   "outputs": [
    {
     "name": "stderr",
     "output_type": "stream",
     "text": [
      "22/03/13 10:42:25 WARN Utils: Your hostname, ubuntu-virtual-machine resolves to a loopback address: 127.0.1.1; using 192.168.80.128 instead (on interface ens33)\n",
      "22/03/13 10:42:25 WARN Utils: Set SPARK_LOCAL_IP if you need to bind to another address\n",
      "22/03/13 10:42:26 WARN NativeCodeLoader: Unable to load native-hadoop library for your platform... using builtin-java classes where applicable\n",
      "Using Spark's default log4j profile: org/apache/spark/log4j-defaults.properties\n",
      "Setting default log level to \"WARN\".\n",
      "To adjust logging level use sc.setLogLevel(newLevel). For SparkR, use setLogLevel(newLevel).\n",
      "22/03/13 10:42:30 WARN Utils: Service 'SparkUI' could not bind on port 4040. Attempting port 4041.\n",
      "22/03/13 10:42:30 WARN Utils: Service 'SparkUI' could not bind on port 4041. Attempting port 4042.\n"
     ]
    }
   ],
   "source": [
    "from pyspark.conf import SparkConf\n",
    "config = SparkConf()\n",
    "# config.set(\"property\", \"value\")\n",
    "config.setMaster(\"local\").setAppName(\"StocksAssignment\")\n",
    "\n",
    "from pyspark.sql import SparkSession\n",
    "# spark Session, entry point for Spark SQL, DataFrame\n",
    "spark = SparkSession.builder\\\n",
    "                    .config(conf=config)\\\n",
    "                    .getOrCreate()\n",
    "\n",
    "sc = spark.sparkContext"
   ]
  },
  {
   "cell_type": "code",
   "execution_count": 3,
   "id": "47678179-2ffb-4d03-9e15-f265d3fd1140",
   "metadata": {},
   "outputs": [
    {
     "name": "stderr",
     "output_type": "stream",
     "text": [
      "                                                                                \r"
     ]
    },
    {
     "name": "stdout",
     "output_type": "stream",
     "text": [
      "root\n",
      " |-- _c0: integer (nullable = true)\n",
      " |-- SYMBOL: string (nullable = true)\n",
      " |-- SERIES: string (nullable = true)\n",
      " |-- OPEN: double (nullable = true)\n",
      " |-- HIGH: double (nullable = true)\n",
      " |-- LOW: double (nullable = true)\n",
      " |-- CLOSE: double (nullable = true)\n",
      " |-- LAST: double (nullable = true)\n",
      " |-- PREVCLOSE: double (nullable = true)\n",
      " |-- TOTTRDQTY: integer (nullable = true)\n",
      " |-- TOTTRDVAL: double (nullable = true)\n",
      " |-- TIMESTAMP: string (nullable = true)\n",
      " |-- TOTALTRADES: integer (nullable = true)\n",
      " |-- ISIN: string (nullable = true)\n",
      " |-- Unnamed: 13: string (nullable = true)\n",
      "\n",
      "+---+----------+------+--------+--------+-------+--------+-------+---------+---------+--------------+-----------+-----------+------------+-----------+\n",
      "|_c0|    SYMBOL|SERIES|    OPEN|    HIGH|    LOW|   CLOSE|   LAST|PREVCLOSE|TOTTRDQTY|     TOTTRDVAL|  TIMESTAMP|TOTALTRADES|        ISIN|Unnamed: 13|\n",
      "+---+----------+------+--------+--------+-------+--------+-------+---------+---------+--------------+-----------+-----------+------------+-----------+\n",
      "|  0| 20MICRONS|    EQ|   69.95|    71.0|  68.45|    69.8|   70.4|     71.6|   140616|     9823167.1|07-MAR-2022|       1742|INE144J01027|       null|\n",
      "|  1|21STCENMGM|    EQ|   27.95|   27.95|  27.95|   27.95|  27.95|     28.5|      793|      22164.35|07-MAR-2022|         34|INE253B01015|       null|\n",
      "|  2| 3IINFOLTD|    EQ|   52.25|    55.1|   51.0|    55.1|   55.1|     52.5|  1209245| 6.554553075E7|07-MAR-2022|       6644|INE748C01038|       null|\n",
      "|  3|   3MINDIA|    EQ|20199.35|20199.35|19600.0|19925.95|19935.0| 20379.35|    15772|3.1509127765E8|07-MAR-2022|       2416|INE470A01017|       null|\n",
      "|  4|    3PLAND|    BE|    15.6|   15.85|   14.9|   15.05|  15.05|     15.6|     3548|      54210.25|07-MAR-2022|         51|INE105C01023|       null|\n",
      "+---+----------+------+--------+--------+-------+--------+-------+---------+---------+--------------+-----------+-----------+------------+-----------+\n",
      "only showing top 5 rows\n",
      "\n"
     ]
    },
    {
     "name": "stderr",
     "output_type": "stream",
     "text": [
      "22/03/13 10:43:06 WARN CSVHeaderChecker: CSV header does not conform to the schema.\n",
      " Header: , SYMBOL, SERIES, OPEN, HIGH, LOW, CLOSE, LAST, PREVCLOSE, TOTTRDQTY, TOTTRDVAL, TIMESTAMP, TOTALTRADES, ISIN, Unnamed: 13\n",
      " Schema: _c0, SYMBOL, SERIES, OPEN, HIGH, LOW, CLOSE, LAST, PREVCLOSE, TOTTRDQTY, TOTTRDVAL, TIMESTAMP, TOTALTRADES, ISIN, Unnamed: 13\n",
      "Expected: _c0 but found: \n",
      "CSV file: hdfs://localhost:9000/StocksAssignment/March_07.csv\n"
     ]
    }
   ],
   "source": [
    "sectorDf = spark.read.format(\"csv\")\\\n",
    "                .option(\"header\", True)\\\n",
    "                .option(\"inferSchema\", True)\\\n",
    "                .load(\"hdfs://localhost:9000/StocksAssignment\")\n",
    "\n",
    "sectorDf.printSchema()\n",
    "sectorDf.show(5)"
   ]
  },
  {
   "cell_type": "code",
   "execution_count": 4,
   "id": "d2a7795f-0af5-40cd-bdfd-fd0436d6bb4e",
   "metadata": {},
   "outputs": [
    {
     "data": {
      "text/plain": [
       "1"
      ]
     },
     "execution_count": 4,
     "metadata": {},
     "output_type": "execute_result"
    }
   ],
   "source": [
    "sectorDf.rdd.getNumPartitions()"
   ]
  },
  {
   "cell_type": "code",
   "execution_count": 21,
   "id": "dda37484-3526-4330-917e-9aabcf83796e",
   "metadata": {},
   "outputs": [
    {
     "name": "stdout",
     "output_type": "stream",
     "text": [
      "+----------+------+--------+--------+-------+--------+-------+---------+---------+--------------+-----------+-----------+------------+--------------------+--------------------+\n",
      "|    SYMBOL|SERIES|    OPEN|    HIGH|    LOW|   CLOSE|   LAST|PREVCLOSE|TOTTRDQTY|     TOTTRDVAL|  TIMESTAMP|TOTALTRADES|        ISIN|                GAIN|               GAINP|\n",
      "+----------+------+--------+--------+-------+--------+-------+---------+---------+--------------+-----------+-----------+------------+--------------------+--------------------+\n",
      "| 20MICRONS|    EQ|   69.95|    71.0|  68.45|    69.8|   70.4|     71.6|   140616|     9823167.1|07-MAR-2022|       1742|INE144J01027|-0.15000000000000568|-0.21443888491780658|\n",
      "|21STCENMGM|    EQ|   27.95|   27.95|  27.95|   27.95|  27.95|     28.5|      793|      22164.35|07-MAR-2022|         34|INE253B01015|                 0.0|                 0.0|\n",
      "| 3IINFOLTD|    EQ|   52.25|    55.1|   51.0|    55.1|   55.1|     52.5|  1209245| 6.554553075E7|07-MAR-2022|       6644|INE748C01038|  2.8500000000000014|   5.454545454545457|\n",
      "|   3MINDIA|    EQ|20199.35|20199.35|19600.0|19925.95|19935.0| 20379.35|    15772|3.1509127765E8|07-MAR-2022|       2416|INE470A01017|  -273.3999999999978| -1.3535089000388518|\n",
      "|    3PLAND|    BE|    15.6|   15.85|   14.9|   15.05|  15.05|     15.6|     3548|      54210.25|07-MAR-2022|         51|INE105C01023| -0.5499999999999989| -3.5256410256410184|\n",
      "| 515GS2025|    GS|   96.01|   96.01|   95.0|    95.0|   95.0|     96.0|      100|        9571.7|07-MAR-2022|          3|IN0020200278| -1.0100000000000051| -1.0519737527340955|\n",
      "| 563GS2026|    GS|  105.39|  105.39| 105.39|  105.39| 105.39|   100.38|       10|        1053.9|07-MAR-2022|          1|IN0020210012|                 0.0|                 0.0|\n",
      "|    5PAISA|    EQ|   326.1|   326.1| 296.75|  305.75|  307.6|    326.1|    31838|    9905574.25|07-MAR-2022|       1519|INE618L01018| -20.350000000000023|  -6.240417049984673|\n",
      "|   63MOONS|    BE|  195.25|   200.0| 195.25|   195.8| 195.25|    205.5|    52759| 1.032847955E7|07-MAR-2022|        768|INE111B01023|  0.5500000000000114| 0.28169014084507626|\n",
      "| 667GS2050|    GS|    97.1|    97.1|  96.04|   96.12|  96.12|     97.1|    12469|    1202282.86|07-MAR-2022|         18|IN0020200252| -0.9799999999999898| -1.0092687950566321|\n",
      "| 676GS2061|    GS|    95.0|    97.0|   95.0|    95.0|   95.0|    94.75|     5265|     500492.98|07-MAR-2022|         24|IN0020200401|                 0.0|                 0.0|\n",
      "| 699GS2051|    GS|  102.95|  102.95|   99.5|   100.0|  100.0|   102.95|      711|      71101.95|07-MAR-2022|          6|IN0020210194|  -2.950000000000003|   -2.86546867411365|\n",
      "| 717GS2028|    GS|   103.2|   103.2|  103.2|   103.2|  103.2|    103.2|     2500|      258000.0|07-MAR-2022|          3|IN0020170174|                 0.0|                 0.0|\n",
      "| 737GS2023|    GS|  100.01|  100.01| 100.01|  100.01| 100.01|   100.02|       30|        3000.3|07-MAR-2022|          1|IN0020180025|                 0.0|                 0.0|\n",
      "|  74GS2035|    GS|   108.0|   108.0|  108.0|   108.0|  108.0|    108.8|       90|        9720.0|07-MAR-2022|          2|IN0020050012|                 0.0|                 0.0|\n",
      "| 769GS2043|    GS|   109.0|   109.0|  109.0|   109.0|  109.0|   104.01|      300|       32700.0|07-MAR-2022|          2|IN0020190040|                 0.0|                 0.0|\n",
      "| 824GS2027|    GS|  101.01|  101.01| 101.01|  101.01| 101.01|   101.02|       30|        3030.3|07-MAR-2022|          1|IN0020060078|                 0.0|                 0.0|\n",
      "|  A2ZINFRA|    EQ|    10.5|   10.75|  10.25|   10.25|  10.25|    10.75|  1386545|  1.43277542E7|07-MAR-2022|       1230|INE619I01012|               -0.25|  -2.380952380952381|\n",
      "|    AAKASH|    BE|    30.5|    30.5|  29.05|   29.05|  29.05|    30.55|    60749|     1770865.7|07-MAR-2022|        141|INE087Z01024| -1.4499999999999993|  -4.754098360655735|\n",
      "|AAREYDRUGS|    EQ|    43.1|    44.3|   42.0|    43.0|   42.8|    43.55|    28619|     1231481.5|07-MAR-2022|        457|INE198H01019|-0.10000000000000142| -0.2320185614849221|\n",
      "+----------+------+--------+--------+-------+--------+-------+---------+---------+--------------+-----------+-----------+------------+--------------------+--------------------+\n",
      "only showing top 20 rows\n",
      "\n"
     ]
    }
   ],
   "source": [
    "# df_orders.drop('cust_no').show()\n",
    "newstocksDF = sectorDf.drop('_c0','Unnamed: 13')\n",
    "newstocksDF.show()"
   ]
  },
  {
   "cell_type": "markdown",
   "id": "97fb265e-769c-4703-8b8d-f773631453e0",
   "metadata": {},
   "source": [
    "## Finding the gain and gain%"
   ]
  },
  {
   "cell_type": "code",
   "execution_count": 22,
   "id": "77bef76d-30b7-4048-bc5d-714344b7d629",
   "metadata": {},
   "outputs": [
    {
     "name": "stdout",
     "output_type": "stream",
     "text": [
      "root\n",
      " |-- SYMBOL: string (nullable = true)\n",
      " |-- SERIES: string (nullable = true)\n",
      " |-- OPEN: double (nullable = true)\n",
      " |-- HIGH: double (nullable = true)\n",
      " |-- LOW: double (nullable = true)\n",
      " |-- CLOSE: double (nullable = true)\n",
      " |-- LAST: double (nullable = true)\n",
      " |-- PREVCLOSE: double (nullable = true)\n",
      " |-- TOTTRDQTY: integer (nullable = true)\n",
      " |-- TOTTRDVAL: double (nullable = true)\n",
      " |-- TIMESTAMP: string (nullable = true)\n",
      " |-- TOTALTRADES: integer (nullable = true)\n",
      " |-- ISIN: string (nullable = true)\n",
      " |-- GAIN: double (nullable = true)\n",
      " |-- GAINP: double (nullable = true)\n",
      "\n",
      "+----------+------+--------+--------+-------+--------+-------+---------+---------+--------------+-----------+-----------+------------+--------------------+--------------------+\n",
      "|    SYMBOL|SERIES|    OPEN|    HIGH|    LOW|   CLOSE|   LAST|PREVCLOSE|TOTTRDQTY|     TOTTRDVAL|  TIMESTAMP|TOTALTRADES|        ISIN|                GAIN|               GAINP|\n",
      "+----------+------+--------+--------+-------+--------+-------+---------+---------+--------------+-----------+-----------+------------+--------------------+--------------------+\n",
      "| 20MICRONS|    EQ|   69.95|    71.0|  68.45|    69.8|   70.4|     71.6|   140616|     9823167.1|07-MAR-2022|       1742|INE144J01027|-0.15000000000000568|-0.21443888491780658|\n",
      "|21STCENMGM|    EQ|   27.95|   27.95|  27.95|   27.95|  27.95|     28.5|      793|      22164.35|07-MAR-2022|         34|INE253B01015|                 0.0|                 0.0|\n",
      "| 3IINFOLTD|    EQ|   52.25|    55.1|   51.0|    55.1|   55.1|     52.5|  1209245| 6.554553075E7|07-MAR-2022|       6644|INE748C01038|  2.8500000000000014|   5.454545454545457|\n",
      "|   3MINDIA|    EQ|20199.35|20199.35|19600.0|19925.95|19935.0| 20379.35|    15772|3.1509127765E8|07-MAR-2022|       2416|INE470A01017|  -273.3999999999978| -1.3535089000388518|\n",
      "|    3PLAND|    BE|    15.6|   15.85|   14.9|   15.05|  15.05|     15.6|     3548|      54210.25|07-MAR-2022|         51|INE105C01023| -0.5499999999999989| -3.5256410256410184|\n",
      "+----------+------+--------+--------+-------+--------+-------+---------+---------+--------------+-----------+-----------+------------+--------------------+--------------------+\n",
      "only showing top 5 rows\n",
      "\n"
     ]
    }
   ],
   "source": [
    "# add/derive a column withColumn GAIN = CLOSE - OPEN\n",
    "# add/derive a column withColumn GAINP = ( GAIN / OPEN ) * 100\n",
    "# where as abs is function from pyspark.sql.functions\n",
    "from pyspark.sql.functions import col\n",
    "newstocksDF = newstocksDF.withColumn(\"GAIN\", col(\"CLOSE\") - col(\"OPEN\"))\\\n",
    "                 .withColumn(\"GAINP\", (col(\"GAIN\") / col(\"OPEN\") )   * 100)\n",
    "\n",
    "newstocksDF.printSchema()\n",
    "newstocksDF.show(5)"
   ]
  },
  {
   "cell_type": "code",
   "execution_count": 16,
   "id": "1f8a85e3-0e7a-47e6-a4ba-e1b50618a1fe",
   "metadata": {},
   "outputs": [
    {
     "name": "stderr",
     "output_type": "stream",
     "text": [
      "                                                                                \r"
     ]
    }
   ],
   "source": [
    "from pyspark.conf import SparkConf\n",
    "config = SparkConf()\n",
    "# config.set(\"property\", \"value\")\n",
    "config.setMaster(\"local\").setAppName(\"StocksAssignment\")\n",
    "\n",
    "from pyspark.sql import SparkSession\n",
    "sectorDf.drop('_c0','Unnamed: 13').write.mode(\"overwrite\").parquet(\"hdfs://localhost:9000/stocksAssignmentparquet\")"
   ]
  },
  {
   "cell_type": "code",
   "execution_count": 17,
   "id": "55dab917-18ed-46df-8ae8-b8eeceaea33b",
   "metadata": {},
   "outputs": [
    {
     "name": "stdout",
     "output_type": "stream",
     "text": [
      "root\n",
      " |-- SYMBOL: string (nullable = true)\n",
      " |-- SERIES: string (nullable = true)\n",
      " |-- OPEN: double (nullable = true)\n",
      " |-- HIGH: double (nullable = true)\n",
      " |-- LOW: double (nullable = true)\n",
      " |-- CLOSE: double (nullable = true)\n",
      " |-- LAST: double (nullable = true)\n",
      " |-- PREVCLOSE: double (nullable = true)\n",
      " |-- TOTTRDQTY: integer (nullable = true)\n",
      " |-- TOTTRDVAL: double (nullable = true)\n",
      " |-- TIMESTAMP: string (nullable = true)\n",
      " |-- TOTALTRADES: integer (nullable = true)\n",
      " |-- ISIN: string (nullable = true)\n",
      "\n",
      "+----------+------+--------+--------+-------+--------+-------+---------+---------+--------------+-----------+-----------+------------+\n",
      "|    SYMBOL|SERIES|    OPEN|    HIGH|    LOW|   CLOSE|   LAST|PREVCLOSE|TOTTRDQTY|     TOTTRDVAL|  TIMESTAMP|TOTALTRADES|        ISIN|\n",
      "+----------+------+--------+--------+-------+--------+-------+---------+---------+--------------+-----------+-----------+------------+\n",
      "| 20MICRONS|    EQ|   69.95|    71.0|  68.45|    69.8|   70.4|     71.6|   140616|     9823167.1|07-MAR-2022|       1742|INE144J01027|\n",
      "|21STCENMGM|    EQ|   27.95|   27.95|  27.95|   27.95|  27.95|     28.5|      793|      22164.35|07-MAR-2022|         34|INE253B01015|\n",
      "| 3IINFOLTD|    EQ|   52.25|    55.1|   51.0|    55.1|   55.1|     52.5|  1209245| 6.554553075E7|07-MAR-2022|       6644|INE748C01038|\n",
      "|   3MINDIA|    EQ|20199.35|20199.35|19600.0|19925.95|19935.0| 20379.35|    15772|3.1509127765E8|07-MAR-2022|       2416|INE470A01017|\n",
      "|    3PLAND|    BE|    15.6|   15.85|   14.9|   15.05|  15.05|     15.6|     3548|      54210.25|07-MAR-2022|         51|INE105C01023|\n",
      "+----------+------+--------+--------+-------+--------+-------+---------+---------+--------------+-----------+-----------+------------+\n",
      "only showing top 5 rows\n",
      "\n"
     ]
    }
   ],
   "source": [
    "# READ Parquet FILE into DataFrame\n",
    "# inferSchema not needed as parquet has schema itself\n",
    "sectorParquetDf = spark.read.format(\"parquet\")\\\n",
    "                .load(\"hdfs://localhost:9000/stocksAssignmentparquet\")\n",
    "\n",
    "sectorParquetDf.printSchema()\n",
    "sectorParquetDf.show(5)"
   ]
  },
  {
   "cell_type": "code",
   "execution_count": 29,
   "id": "819f679d-e12d-4aad-9050-c7b76855d49a",
   "metadata": {},
   "outputs": [
    {
     "name": "stderr",
     "output_type": "stream",
     "text": [
      "[Stage 29:============================================>          (80 + 1) / 100]\r"
     ]
    },
    {
     "name": "stdout",
     "output_type": "stream",
     "text": [
      "+----------+------+------+------+------+------+------+---------+---------+----------+-----------+-----------+------------+----+-----+----+\n",
      "|    SYMBOL|SERIES|  OPEN|  HIGH|   LOW| CLOSE|  LAST|PREVCLOSE|TOTTRDQTY| TOTTRDVAL|  TIMESTAMP|TOTALTRADES|        ISIN|GAIN|GAINP| lag|\n",
      "+----------+------+------+------+------+------+------+---------+---------+----------+-----------+-----------+------------+----+-----+----+\n",
      "| 563GS2026|    GS|105.39|105.39|105.39|105.39|105.39|   100.38|       10|    1053.9|07-MAR-2022|          1|IN0020210012| 0.0|  0.0|null|\n",
      "| 737GS2023|    GS|100.01|100.01|100.01|100.01|100.01|   100.02|       30|    3000.3|07-MAR-2022|          1|IN0020180025| 0.0|  0.0|   1|\n",
      "| 824GS2027|    GS|101.01|101.01|101.01|101.01|101.01|   101.02|       30|    3030.3|07-MAR-2022|          1|IN0020060078| 0.0|  0.0|   1|\n",
      "|    ACCORD|    SM|  32.0|  32.0|  32.0|  32.0|  32.0|     31.6|     2000|   64000.0|07-MAR-2022|          1|INE113X01015| 0.0|  0.0|   1|\n",
      "| AMBANIORG|    SM| 110.0| 110.0| 110.0| 110.0| 110.0|    105.9|     2000|  220000.0|07-MAR-2022|          1|INE00C501018| 0.0|  0.0|   1|\n",
      "|  ATALREAL|    SM| 139.0| 139.0| 139.0| 139.0| 139.0|    140.0|     1600|  222400.0|07-MAR-2022|          1|INE0ALR01011| 0.0|  0.0|   1|\n",
      "| BLUECOAST|    BE|   5.4|   5.4|   5.4|   5.4|   5.4|      5.5|        1|       5.4|07-MAR-2022|          1|INE472B01011| 0.0|  0.0|   1|\n",
      "|     CONTI|    SM|  10.8|  10.8|  10.8|  10.8|  10.8|    11.35|     3333|   35996.4|07-MAR-2022|          1|INE340Z01019| 0.0|  0.0|   1|\n",
      "|       DCI|    SM|  42.0|  42.0|  42.0|  42.0|  42.0|     44.3|     6000|  252000.0|07-MAR-2022|          1|INE0A1101019| 0.0|  0.0|   1|\n",
      "|DCMFINSERV|    BE|   4.1|   4.1|   4.1|   4.1|   4.1|      4.3|        1|       4.1|07-MAR-2022|          1|INE891B01012| 0.0|  0.0|   1|\n",
      "|DHANILOANS|    NC| 965.0| 965.0| 965.0| 965.0| 965.0|    955.2|        2|    1930.0|07-MAR-2022|          1|INE614X07159| 0.0|  0.0|   1|\n",
      "|ECLFINANCE|    NN|1351.0|1351.0|1351.0|1351.0|1351.0|   1351.0|       10|   13510.0|07-MAR-2022|          1|INE804I076Z9| 0.0|  0.0|   1|\n",
      "|  ERFLNCDI|    N6| 889.8| 889.8| 889.8| 889.8| 889.8|   883.97|       10|    8898.0|07-MAR-2022|          1|INE528S07128| 0.0|  0.0|   1|\n",
      "|EUROTEXIND|    BE|  13.3|  13.3|  13.3|  13.3|  13.3|     14.0|        8|     106.4|07-MAR-2022|          1|INE022C01012| 0.0|  0.0|   1|\n",
      "|  GANGOTRI|    BE|  1.45|  1.45|  1.45|  1.45|  1.45|      1.5|      400|     580.0|07-MAR-2022|          1|INE670B01028| 0.0|  0.0|   1|\n",
      "|      GLFL|    BE|  2.45|  2.45|  2.45|  2.45|  2.45|     2.45|       10|      24.5|07-MAR-2022|          1|INE540A01017| 0.0|  0.0|   1|\n",
      "|       HGS|    BL|1130.0|1130.0|1130.0|1130.0|1130.0|   2850.0|   814490|9.203737E8|07-MAR-2022|          1|INE170I01016| 0.0|  0.0|   1|\n",
      "|     HUDCO|    N4|1039.0|1039.0|1039.0|1039.0|1039.0|   1039.0|       90|   93510.0|07-MAR-2022|          1|INE031A07857| 0.0|  0.0|   1|\n",
      "|     HUDCO|    N6|1288.8|1288.8|1288.8|1288.8|1288.8|   1288.9|        1|    1288.8|07-MAR-2022|          1|INE031A07873| 0.0|  0.0|   1|\n",
      "|     HUDCO|    N7|1190.0|1190.0|1190.0|1190.0|1190.0|   1200.0|       10|   11900.0|07-MAR-2022|          1|INE031A07881| 0.0|  0.0|   1|\n",
      "+----------+------+------+------+------+------+------+---------+---------+----------+-----------+-----------+------------+----+-----+----+\n",
      "only showing top 20 rows\n",
      "\n"
     ]
    },
    {
     "name": "stderr",
     "output_type": "stream",
     "text": [
      "                                                                                \r"
     ]
    }
   ],
   "source": [
    " # lag - previous lag\n",
    "from pyspark.sql.window import Window\n",
    "from pyspark.sql.functions import lag, desc\n",
    "windowSpec = Window.partitionBy(\"TIMESTAMP\").orderBy(\"TOTALTRADES\")\n",
    "# df = empDf.withColumn(\"lag\", lag(\"salary\",1).over(windowSpec))\n",
    "newdf = newstocksDF.withColumn(\"lag\", lag(\"TOTALTRADES\",1).over(windowSpec))\n",
    "newdf.show()"
   ]
  },
  {
   "cell_type": "code",
   "execution_count": null,
   "id": "169e03ea-dd44-4fcf-b226-90b83d91b24e",
   "metadata": {},
   "outputs": [],
   "source": []
  },
  {
   "cell_type": "code",
   "execution_count": 6,
   "id": "9c72684b-2a28-4f10-b801-bf7430e7555c",
   "metadata": {},
   "outputs": [
    {
     "name": "stdout",
     "output_type": "stream",
     "text": [
      "root\n",
      " |-- SYMBOL: string (nullable = true)\n",
      " |-- SERIES: string (nullable = true)\n",
      " |-- OPEN: double (nullable = true)\n",
      " |-- HIGH: double (nullable = true)\n",
      " |-- LOW: double (nullable = true)\n",
      " |-- CLOSE: double (nullable = true)\n",
      " |-- LAST: double (nullable = true)\n",
      " |-- PREVCLOSE: double (nullable = true)\n",
      " |-- TOTTRDQTY: integer (nullable = true)\n",
      " |-- TOTTRDVAL: double (nullable = true)\n",
      " |-- TIMESTAMP: string (nullable = true)\n",
      " |-- TOTALTRADES: integer (nullable = true)\n",
      " |-- ISIN: string (nullable = true)\n",
      " |-- GAIN: double (nullable = true)\n",
      " |-- GAINP: double (nullable = true)\n",
      "\n",
      "+----------+------+-------+-------+-------+-------+-------+---------+---------+-------------+-----------+-----------+------------+--------------------+-------------------+\n",
      "|    SYMBOL|SERIES|   OPEN|   HIGH|    LOW|  CLOSE|   LAST|PREVCLOSE|TOTTRDQTY|    TOTTRDVAL|  TIMESTAMP|TOTALTRADES|        ISIN|                GAIN|              GAINP|\n",
      "+----------+------+-------+-------+-------+-------+-------+---------+---------+-------------+-----------+-----------+------------+--------------------+-------------------+\n",
      "| 20MICRONS|    EQ|   70.1|   73.6|   70.1|  71.85|  72.05|     71.2|   219912|1.583125505E7|02-MAR-2022|       2642|INE144J01027|                1.75| 2.4964336661911557|\n",
      "|21STCENMGM|    EQ|   29.6|   29.6|   29.6|   29.6|   29.6|     30.2|     1209|      35786.4|02-MAR-2022|         45|INE253B01015|                 0.0|                0.0|\n",
      "| 3IINFOLTD|    EQ|  51.05|  51.35|   49.1|  49.45|   49.4|    51.45|  1092731| 5.46426994E7|02-MAR-2022|       7273|INE748C01038| -1.5999999999999943|-3.1341821743388723|\n",
      "|   3MINDIA|    EQ|21480.0|21480.0|20730.0|20923.1|20925.0|  21208.4|     1823|3.829445575E7|02-MAR-2022|       1120|INE470A01017|  -556.9000000000015|-2.5926443202979583|\n",
      "|    3PLAND|    BE|   15.9|  16.15|   14.8|   15.5|  15.65|    15.55|     8318|     128580.0|02-MAR-2022|         70|INE105C01023|-0.40000000000000036|-2.5157232704402537|\n",
      "+----------+------+-------+-------+-------+-------+-------+---------+---------+-------------+-----------+-----------+------------+--------------------+-------------------+\n",
      "only showing top 5 rows\n",
      "\n"
     ]
    }
   ],
   "source": [
    "# add/derive a column withColumn GAIN = CLOSE - OPEN\n",
    "# add/derive a column withColumn GAINP = ( GAIN / OPEN ) * 100\n",
    "# where as abs is function from pyspark.sql.functions\n",
    "from pyspark.sql.functions import col\n",
    "dailyDf = dailyDf.withColumn(\"GAIN\", col(\"CLOSE\") - col(\"OPEN\"))\\\n",
    "                 .withColumn(\"GAINP\", (col(\"GAIN\") / col(\"OPEN\") )   * 100)\n",
    "\n",
    "dailyDf.printSchema()\n",
    "dailyDf.show(5)"
   ]
  },
  {
   "cell_type": "code",
   "execution_count": 8,
   "id": "e7837d28-eefb-492e-9594-09dc8f68bc70",
   "metadata": {},
   "outputs": [
    {
     "name": "stdout",
     "output_type": "stream",
     "text": [
      "root\n",
      " |-- SYMBOL: string (nullable = true)\n",
      " |-- SERIES: string (nullable = true)\n",
      " |-- OPEN: double (nullable = true)\n",
      " |-- HIGH: double (nullable = true)\n",
      " |-- LOW: double (nullable = true)\n",
      " |-- CLOSE: double (nullable = true)\n",
      " |-- LAST: double (nullable = true)\n",
      " |-- PREVCLOSE: double (nullable = true)\n",
      " |-- TOTTRDQTY: integer (nullable = true)\n",
      " |-- TOTTRDVAL: double (nullable = true)\n",
      " |-- TIMESTAMP: string (nullable = true)\n",
      " |-- TOTALTRADES: integer (nullable = true)\n",
      " |-- ISIN: string (nullable = true)\n",
      " |-- GAIN: double (nullable = true)\n",
      " |-- GAINP: double (nullable = true)\n",
      "\n",
      "+----------+------+-------+-------+-------+-------+-------+---------+---------+-------------+-----------+-----------+------------+--------------------+-------------------+\n",
      "|    SYMBOL|SERIES|   OPEN|   HIGH|    LOW|  CLOSE|   LAST|PREVCLOSE|TOTTRDQTY|    TOTTRDVAL|  TIMESTAMP|TOTALTRADES|        ISIN|                GAIN|              GAINP|\n",
      "+----------+------+-------+-------+-------+-------+-------+---------+---------+-------------+-----------+-----------+------------+--------------------+-------------------+\n",
      "| 20MICRONS|    EQ|   70.1|   73.6|   70.1|  71.85|  72.05|     71.2|   219912|1.583125505E7|02-MAR-2022|       2642|INE144J01027|                1.75| 2.4964336661911557|\n",
      "|21STCENMGM|    EQ|   29.6|   29.6|   29.6|   29.6|   29.6|     30.2|     1209|      35786.4|02-MAR-2022|         45|INE253B01015|                 0.0|                0.0|\n",
      "| 3IINFOLTD|    EQ|  51.05|  51.35|   49.1|  49.45|   49.4|    51.45|  1092731| 5.46426994E7|02-MAR-2022|       7273|INE748C01038| -1.5999999999999943|-3.1341821743388723|\n",
      "|   3MINDIA|    EQ|21480.0|21480.0|20730.0|20923.1|20925.0|  21208.4|     1823|3.829445575E7|02-MAR-2022|       1120|INE470A01017|  -556.9000000000015|-2.5926443202979583|\n",
      "|    3PLAND|    BE|   15.9|  16.15|   14.8|   15.5|  15.65|    15.55|     8318|     128580.0|02-MAR-2022|         70|INE105C01023|-0.40000000000000036|-2.5157232704402537|\n",
      "+----------+------+-------+-------+-------+-------+-------+---------+---------+-------------+-----------+-----------+------------+--------------------+-------------------+\n",
      "only showing top 5 rows\n",
      "\n"
     ]
    }
   ],
   "source": [
    "# add/derive a column withColumn GAIN = CLOSE - OPEN\n",
    "# add/derive a column withColumn GAINP = ( GAIN / OPEN ) * 100\n",
    "# where as abs is function from pyspark.sql.functions\n",
    "from pyspark.sql.functions import col\n",
    "dailyDf = dailyDf.withColumn(\"GAIN\", col(\"CLOSE\") - col(\"OPEN\"))\\\n",
    "                 .withColumn(\"GAINP\", (col(\"GAIN\") / col(\"OPEN\") )   * 100)\n",
    "\n",
    "dailyDf.printSchema()\n",
    "dailyDf.show(5)"
   ]
  },
  {
   "cell_type": "code",
   "execution_count": null,
   "id": "c1b05641-aa9a-490f-b3ea-7c983be9652e",
   "metadata": {},
   "outputs": [],
   "source": []
  },
  {
   "cell_type": "code",
   "execution_count": null,
   "id": "de90a54f-c376-4b54-9521-bec4eb00a42f",
   "metadata": {},
   "outputs": [],
   "source": []
  }
 ],
 "metadata": {
  "kernelspec": {
   "display_name": "Python 3 (ipykernel)",
   "language": "python",
   "name": "python3"
  },
  "language_info": {
   "codemirror_mode": {
    "name": "ipython",
    "version": 3
   },
   "file_extension": ".py",
   "mimetype": "text/x-python",
   "name": "python",
   "nbconvert_exporter": "python",
   "pygments_lexer": "ipython3",
   "version": "3.7.12"
  }
 },
 "nbformat": 4,
 "nbformat_minor": 5
}
